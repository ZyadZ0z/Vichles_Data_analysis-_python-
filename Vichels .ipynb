{
 "cells": [
  {
   "cell_type": "code",
   "execution_count": 3,
   "metadata": {},
   "outputs": [],
   "source": [
    "import pandas as pd \n",
    "\n",
    "\n",
    "import numpy as np\n",
    "\n"
   ]
  },
  {
   "cell_type": "code",
   "execution_count": 4,
   "metadata": {},
   "outputs": [
    {
     "name": "stdout",
     "output_type": "stream",
     "text": [
      "Requirement already satisfied: pandas in c:\\users\\admin\\appdata\\local\\programs\\python\\python313\\lib\\site-packages (2.2.3)\n",
      "Requirement already satisfied: numpy>=1.26.0 in c:\\users\\admin\\appdata\\local\\programs\\python\\python313\\lib\\site-packages (from pandas) (2.2.1)\n",
      "Requirement already satisfied: python-dateutil>=2.8.2 in c:\\users\\admin\\appdata\\roaming\\python\\python313\\site-packages (from pandas) (2.9.0.post0)\n",
      "Requirement already satisfied: pytz>=2020.1 in c:\\users\\admin\\appdata\\local\\programs\\python\\python313\\lib\\site-packages (from pandas) (2024.2)\n",
      "Requirement already satisfied: tzdata>=2022.7 in c:\\users\\admin\\appdata\\local\\programs\\python\\python313\\lib\\site-packages (from pandas) (2024.2)\n",
      "Requirement already satisfied: six>=1.5 in c:\\users\\admin\\appdata\\roaming\\python\\python313\\site-packages (from python-dateutil>=2.8.2->pandas) (1.17.0)\n",
      "Note: you may need to restart the kernel to use updated packages.\n"
     ]
    }
   ],
   "source": [
    "pip install pandas\n"
   ]
  },
  {
   "cell_type": "code",
   "execution_count": 6,
   "metadata": {},
   "outputs": [
    {
     "name": "stdout",
     "output_type": "stream",
     "text": [
      "                id                                                url  \\\n",
      "0       7222695916  https://prescott.craigslist.org/cto/d/prescott...   \n",
      "1       7218891961  https://fayar.craigslist.org/ctd/d/bentonville...   \n",
      "2       7221797935  https://keys.craigslist.org/cto/d/summerland-k...   \n",
      "3       7222270760  https://worcester.craigslist.org/cto/d/west-br...   \n",
      "4       7210384030  https://greensboro.craigslist.org/cto/d/trinit...   \n",
      "...            ...                                                ...   \n",
      "426875  7301591192  https://wyoming.craigslist.org/ctd/d/atlanta-2...   \n",
      "426876  7301591187  https://wyoming.craigslist.org/ctd/d/atlanta-2...   \n",
      "426877  7301591147  https://wyoming.craigslist.org/ctd/d/atlanta-2...   \n",
      "426878  7301591140  https://wyoming.craigslist.org/ctd/d/atlanta-2...   \n",
      "426879  7301591129  https://wyoming.craigslist.org/ctd/d/atlanta-2...   \n",
      "\n",
      "                        region                         region_url  price  \\\n",
      "0                     prescott    https://prescott.craigslist.org   6000   \n",
      "1                 fayetteville       https://fayar.craigslist.org  11900   \n",
      "2                 florida keys        https://keys.craigslist.org  21000   \n",
      "3       worcester / central MA   https://worcester.craigslist.org   1500   \n",
      "4                   greensboro  https://greensboro.craigslist.org   4900   \n",
      "...                        ...                                ...    ...   \n",
      "426875                 wyoming     https://wyoming.craigslist.org  23590   \n",
      "426876                 wyoming     https://wyoming.craigslist.org  30590   \n",
      "426877                 wyoming     https://wyoming.craigslist.org  34990   \n",
      "426878                 wyoming     https://wyoming.craigslist.org  28990   \n",
      "426879                 wyoming     https://wyoming.craigslist.org  30590   \n",
      "\n",
      "          year manufacturer                     model condition    cylinders  \\\n",
      "0          NaN          NaN                       NaN       NaN          NaN   \n",
      "1          NaN          NaN                       NaN       NaN          NaN   \n",
      "2          NaN          NaN                       NaN       NaN          NaN   \n",
      "3          NaN          NaN                       NaN       NaN          NaN   \n",
      "4          NaN          NaN                       NaN       NaN          NaN   \n",
      "...        ...          ...                       ...       ...          ...   \n",
      "426875  2019.0       nissan         maxima s sedan 4d      good  6 cylinders   \n",
      "426876  2020.0        volvo  s60 t5 momentum sedan 4d      good          NaN   \n",
      "426877  2020.0     cadillac          xt4 sport suv 4d      good          NaN   \n",
      "426878  2018.0        lexus           es 350 sedan 4d      good  6 cylinders   \n",
      "426879  2019.0          bmw  4 series 430i gran coupe      good          NaN   \n",
      "\n",
      "        ... size       type paint_color  \\\n",
      "0       ...  NaN        NaN         NaN   \n",
      "1       ...  NaN        NaN         NaN   \n",
      "2       ...  NaN        NaN         NaN   \n",
      "3       ...  NaN        NaN         NaN   \n",
      "4       ...  NaN        NaN         NaN   \n",
      "...     ...  ...        ...         ...   \n",
      "426875  ...  NaN      sedan         NaN   \n",
      "426876  ...  NaN      sedan         red   \n",
      "426877  ...  NaN  hatchback       white   \n",
      "426878  ...  NaN      sedan      silver   \n",
      "426879  ...  NaN      coupe         NaN   \n",
      "\n",
      "                                                image_url  \\\n",
      "0                                                     NaN   \n",
      "1                                                     NaN   \n",
      "2                                                     NaN   \n",
      "3                                                     NaN   \n",
      "4                                                     NaN   \n",
      "...                                                   ...   \n",
      "426875  https://images.craigslist.org/00o0o_iiraFnHg8q...   \n",
      "426876  https://images.craigslist.org/00x0x_15sbgnxCIS...   \n",
      "426877  https://images.craigslist.org/00L0L_farM7bxnxR...   \n",
      "426878  https://images.craigslist.org/00z0z_bKnIVGLkDT...   \n",
      "426879  https://images.craigslist.org/00Y0Y_lEUocjyRxa...   \n",
      "\n",
      "                                              description county state  \\\n",
      "0                                                     NaN    NaN    az   \n",
      "1                                                     NaN    NaN    ar   \n",
      "2                                                     NaN    NaN    fl   \n",
      "3                                                     NaN    NaN    ma   \n",
      "4                                                     NaN    NaN    nc   \n",
      "...                                                   ...    ...   ...   \n",
      "426875  Carvana is the safer way to buy a car During t...    NaN    wy   \n",
      "426876  Carvana is the safer way to buy a car During t...    NaN    wy   \n",
      "426877  Carvana is the safer way to buy a car During t...    NaN    wy   \n",
      "426878  Carvana is the safer way to buy a car During t...    NaN    wy   \n",
      "426879  Carvana is the safer way to buy a car During t...    NaN    wy   \n",
      "\n",
      "              lat       long              posting_date  \n",
      "0             NaN        NaN                       NaN  \n",
      "1             NaN        NaN                       NaN  \n",
      "2             NaN        NaN                       NaN  \n",
      "3             NaN        NaN                       NaN  \n",
      "4             NaN        NaN                       NaN  \n",
      "...           ...        ...                       ...  \n",
      "426875  33.786500 -84.445400  2021-04-04T03:21:31-0600  \n",
      "426876  33.786500 -84.445400  2021-04-04T03:21:29-0600  \n",
      "426877  33.779214 -84.411811  2021-04-04T03:21:17-0600  \n",
      "426878  33.786500 -84.445400  2021-04-04T03:21:11-0600  \n",
      "426879  33.779214 -84.411811  2021-04-04T03:21:07-0600  \n",
      "\n",
      "[426880 rows x 26 columns]\n"
     ]
    }
   ],
   "source": [
    "file_path = r\"C:\\Users\\admin\\OneDrive - Egyptian E-Learning University\\Desktop\\Microsoft_eelu_data\\vehicles.csv\"\n",
    "\n",
    "# Read the CSV file\n",
    "data = pd.read_csv(file_path)\n",
    "\n",
    "# Print the first few rows of the dataframe (note the parentheses after .head)\n",
    "print(data)"
   ]
  },
  {
   "cell_type": "code",
   "execution_count": 7,
   "metadata": {},
   "outputs": [
    {
     "name": "stdout",
     "output_type": "stream",
     "text": [
      "<class 'pandas.core.frame.DataFrame'>\n",
      "RangeIndex: 426880 entries, 0 to 426879\n",
      "Data columns (total 26 columns):\n",
      " #   Column        Non-Null Count   Dtype  \n",
      "---  ------        --------------   -----  \n",
      " 0   id            426880 non-null  int64  \n",
      " 1   url           426880 non-null  object \n",
      " 2   region        426880 non-null  object \n",
      " 3   region_url    426880 non-null  object \n",
      " 4   price         426880 non-null  int64  \n",
      " 5   year          425675 non-null  float64\n",
      " 6   manufacturer  409234 non-null  object \n",
      " 7   model         421603 non-null  object \n",
      " 8   condition     252776 non-null  object \n",
      " 9   cylinders     249202 non-null  object \n",
      " 10  fuel          423867 non-null  object \n",
      " 11  odometer      422480 non-null  float64\n",
      " 12  title_status  418638 non-null  object \n",
      " 13  transmission  424324 non-null  object \n",
      " 14  VIN           265838 non-null  object \n",
      " 15  drive         296313 non-null  object \n",
      " 16  size          120519 non-null  object \n",
      " 17  type          334022 non-null  object \n",
      " 18  paint_color   296677 non-null  object \n",
      " 19  image_url     426812 non-null  object \n",
      " 20  description   426810 non-null  object \n",
      " 21  county        0 non-null       float64\n",
      " 22  state         426880 non-null  object \n",
      " 23  lat           420331 non-null  float64\n",
      " 24  long          420331 non-null  float64\n",
      " 25  posting_date  426812 non-null  object \n",
      "dtypes: float64(5), int64(2), object(19)\n",
      "memory usage: 84.7+ MB\n",
      "None\n"
     ]
    }
   ],
   "source": [
    "# cleanning phases \n",
    "print(data.info())\n"
   ]
  },
  {
   "cell_type": "code",
   "execution_count": 25,
   "metadata": {},
   "outputs": [
    {
     "name": "stdout",
     "output_type": "stream",
     "text": [
      "id                   0\n",
      "url                  0\n",
      "region               0\n",
      "region_url           0\n",
      "price                0\n",
      "year              1205\n",
      "manufacturer     17646\n",
      "model             5277\n",
      "condition       174104\n",
      "cylinders       177678\n",
      "fuel              3013\n",
      "odometer          4400\n",
      "title_status      8242\n",
      "transmission      2556\n",
      "VIN             161042\n",
      "drive           130567\n",
      "size            306361\n",
      "type             92858\n",
      "paint_color     130203\n",
      "image_url           68\n",
      "description         70\n",
      "state                0\n",
      "lat               6549\n",
      "long              6549\n",
      "posting_date        68\n",
      "dtype: int64\n"
     ]
    }
   ],
   "source": [
    "print (data.isnull().sum()) # to calc the nulls\n",
    "\n",
    "# print(data.count())"
   ]
  },
  {
   "cell_type": "code",
   "execution_count": null,
   "metadata": {},
   "outputs": [],
   "source": [
    "data= data.drop(columns=['county'])  # Drop un nessecary column "
   ]
  },
  {
   "cell_type": "code",
   "execution_count": 21,
   "metadata": {},
   "outputs": [
    {
     "name": "stdout",
     "output_type": "stream",
     "text": [
      "<class 'pandas.core.frame.DataFrame'>\n",
      "RangeIndex: 426880 entries, 0 to 426879\n",
      "Data columns (total 25 columns):\n",
      " #   Column        Non-Null Count   Dtype  \n",
      "---  ------        --------------   -----  \n",
      " 0   id            426880 non-null  int64  \n",
      " 1   url           426880 non-null  object \n",
      " 2   region        426880 non-null  object \n",
      " 3   region_url    426880 non-null  object \n",
      " 4   price         426880 non-null  int64  \n",
      " 5   year          425675 non-null  float64\n",
      " 6   manufacturer  409234 non-null  object \n",
      " 7   model         421603 non-null  object \n",
      " 8   condition     252776 non-null  object \n",
      " 9   cylinders     249202 non-null  object \n",
      " 10  fuel          423867 non-null  object \n",
      " 11  odometer      422480 non-null  float64\n",
      " 12  title_status  418638 non-null  object \n",
      " 13  transmission  424324 non-null  object \n",
      " 14  VIN           265838 non-null  object \n",
      " 15  drive         296313 non-null  object \n",
      " 16  size          120519 non-null  object \n",
      " 17  type          334022 non-null  object \n",
      " 18  paint_color   296677 non-null  object \n",
      " 19  image_url     426812 non-null  object \n",
      " 20  description   426810 non-null  object \n",
      " 21  state         426880 non-null  object \n",
      " 22  lat           420331 non-null  float64\n",
      " 23  long          420331 non-null  float64\n",
      " 24  posting_date  426812 non-null  object \n",
      "dtypes: float64(4), int64(2), object(19)\n",
      "memory usage: 81.4+ MB\n",
      "None\n"
     ]
    }
   ],
   "source": [
    "print( data.info())"
   ]
  },
  {
   "cell_type": "code",
   "execution_count": 27,
   "metadata": {},
   "outputs": [],
   "source": [
    "# drop Rows with any missing values  \n",
    "\n",
    "data = data.dropna()"
   ]
  },
  {
   "cell_type": "code",
   "execution_count": 49,
   "metadata": {},
   "outputs": [
    {
     "name": "stdout",
     "output_type": "stream",
     "text": [
      "price column after fill the nulls \n",
      "0\n"
     ]
    }
   ],
   "source": [
    "# fill in missing valeues in some specific columns\n",
    " \n",
    "data['price'] = data['price'].fillna(data['price'].median()) \n",
    "\n",
    "print(\"price column after fill the nulls\")\n",
    "print (data['price'].isnull().sum())\n"
   ]
  },
  {
   "cell_type": "code",
   "execution_count": 57,
   "metadata": {},
   "outputs": [
    {
     "name": "stdout",
     "output_type": "stream",
     "text": [
      "id                int64\n",
      "url              object\n",
      "region           object\n",
      "region_url       object\n",
      "price             int64\n",
      "year              int64\n",
      "manufacturer     object\n",
      "model            object\n",
      "condition        object\n",
      "cylinders        object\n",
      "fuel             object\n",
      "odometer        float64\n",
      "title_status     object\n",
      "transmission     object\n",
      "VIN              object\n",
      "drive            object\n",
      "size             object\n",
      "type             object\n",
      "paint_color      object\n",
      "image_url        object\n",
      "description      object\n",
      "state            object\n",
      "lat             float64\n",
      "long            float64\n",
      "posting_date     object\n",
      "dtype: object\n"
     ]
    },
    {
     "name": "stderr",
     "output_type": "stream",
     "text": [
      "C:\\Users\\admin\\AppData\\Local\\Temp\\ipykernel_6196\\2631468447.py:8: FutureWarning: In a future version of pandas, parsing datetimes with mixed time zones will raise an error unless `utc=True`. Please specify `utc=True` to opt in to the new behaviour and silence this warning. To create a `Series` with mixed offsets and `object` dtype, please use `apply` and `datetime.datetime.strptime`\n",
      "  data['posting_date']= pd. to_datetime(data['posting_date'],errors='coerce')\n"
     ]
    }
   ],
   "source": [
    "# Convert data types \n",
    "data ['price']= pd.to_numeric(data['price'],errors= 'coerce')\n",
    "\n",
    "data['year'] = data['year'].astype(int)\n",
    "\n",
    "data['odometer']= pd. to_numeric(data['odometer'],errors='coerce')\n",
    "\n",
    "data['posting_date']= pd. to_datetime(data['posting_date'],errors='coerce')\n",
    "\n",
    "data['lat']= pd. to_numeric(data['lat'],errors='coerce')\n",
    "\n",
    "data['long']= pd. to_numeric(data['long'],errors='coerce')\n",
    "\n",
    "print(data.dtypes)"
   ]
  },
  {
   "cell_type": "code",
   "execution_count": 58,
   "metadata": {},
   "outputs": [
    {
     "name": "stdout",
     "output_type": "stream",
     "text": [
      "id              0\n",
      "url             0\n",
      "region          0\n",
      "region_url      0\n",
      "price           0\n",
      "year            0\n",
      "manufacturer    0\n",
      "model           0\n",
      "condition       0\n",
      "cylinders       0\n",
      "fuel            0\n",
      "odometer        0\n",
      "title_status    0\n",
      "transmission    0\n",
      "VIN             0\n",
      "drive           0\n",
      "size            0\n",
      "type            0\n",
      "paint_color     0\n",
      "image_url       0\n",
      "description     0\n",
      "state           0\n",
      "lat             0\n",
      "long            0\n",
      "posting_date    0\n",
      "dtype: int64\n",
      "<bound method NDFrame.head of                 id                                                url  \\\n",
      "126     7305672709  https://auburn.craigslist.org/ctd/d/ozark-2018...   \n",
      "127     7305672266  https://auburn.craigslist.org/ctd/d/ozark-2019...   \n",
      "128     7305672252  https://auburn.craigslist.org/ctd/d/ozark-2018...   \n",
      "215     7316482063  https://bham.craigslist.org/ctd/d/powder-sprin...   \n",
      "219     7316429417  https://bham.craigslist.org/cto/d/birmingham-1...   \n",
      "...            ...                                                ...   \n",
      "426788  7303227528  https://wyoming.craigslist.org/ctd/d/billings-...   \n",
      "426792  7303114896  https://wyoming.craigslist.org/ctd/d/cheyenne-...   \n",
      "426793  7303112347  https://wyoming.craigslist.org/ctd/d/cheyenne-...   \n",
      "426833  7302338378  https://wyoming.craigslist.org/cto/d/kirby-jag...   \n",
      "426836  7302301268  https://wyoming.craigslist.org/ctd/d/dassel-20...   \n",
      "\n",
      "            region                      region_url  price  year manufacturer  \\\n",
      "126         auburn   https://auburn.craigslist.org      0  2018    chevrolet   \n",
      "127         auburn   https://auburn.craigslist.org      0  2019    chevrolet   \n",
      "128         auburn   https://auburn.craigslist.org      0  2018    chevrolet   \n",
      "215     birmingham     https://bham.craigslist.org   4000  2002       toyota   \n",
      "219     birmingham     https://bham.craigslist.org   2500  1995          bmw   \n",
      "...            ...                             ...    ...   ...          ...   \n",
      "426788     wyoming  https://wyoming.craigslist.org  12995  2016    chevrolet   \n",
      "426792     wyoming  https://wyoming.craigslist.org  32999  2014         ford   \n",
      "426793     wyoming  https://wyoming.craigslist.org  15999  2018    chevrolet   \n",
      "426833     wyoming  https://wyoming.craigslist.org   6800  1997       jaguar   \n",
      "426836     wyoming  https://wyoming.craigslist.org      0  2018          ram   \n",
      "\n",
      "                    model  condition    cylinders  ... drive       size  \\\n",
      "126     express cargo van   like new  6 cylinders  ...   rwd  full-size   \n",
      "127     express cargo van   like new  6 cylinders  ...   rwd  full-size   \n",
      "128     express cargo van   like new  6 cylinders  ...   rwd  full-size   \n",
      "215                  echo  excellent  4 cylinders  ...   fwd    compact   \n",
      "219                  525i       fair  6 cylinders  ...   rwd   mid-size   \n",
      "...                   ...        ...          ...  ...   ...        ...   \n",
      "426788           cruze lt   like new  4 cylinders  ...   fwd    compact   \n",
      "426792          f350, xlt  excellent  8 cylinders  ...   4wd  full-size   \n",
      "426793          cruze, lt  excellent  4 cylinders  ...   fwd   mid-size   \n",
      "426833    xk8 convertible       good  8 cylinders  ...   rwd    compact   \n",
      "426836               2500  excellent  6 cylinders  ...   4wd  full-size   \n",
      "\n",
      "               type paint_color  \\\n",
      "126             van       white   \n",
      "127             van       white   \n",
      "128             van       white   \n",
      "215           sedan        blue   \n",
      "219           sedan       white   \n",
      "...             ...         ...   \n",
      "426788        sedan      silver   \n",
      "426792       pickup       brown   \n",
      "426793        sedan       black   \n",
      "426833  convertible       white   \n",
      "426836        truck       white   \n",
      "\n",
      "                                                image_url  \\\n",
      "126     https://images.craigslist.org/00K0K_69J3ZqXVAc...   \n",
      "127     https://images.craigslist.org/00E0E_fFAYDZvzy8...   \n",
      "128     https://images.craigslist.org/00000_e8MT9cNYnG...   \n",
      "215     https://images.craigslist.org/00N0N_jYPooSDmN5...   \n",
      "219     https://images.craigslist.org/00R0R_iQQpe8BshG...   \n",
      "...                                                   ...   \n",
      "426788  https://images.craigslist.org/00T0T_kYXRjGRlmx...   \n",
      "426792  https://images.craigslist.org/00r0r_ioKuz6JSc5...   \n",
      "426793  https://images.craigslist.org/00m0m_dX2wkt2V4K...   \n",
      "426833  https://images.craigslist.org/00a0a_glcFDSsitm...   \n",
      "426836  https://images.craigslist.org/00i0i_3cSpgdy0qQ...   \n",
      "\n",
      "                                              description state        lat  \\\n",
      "126     2018 Chevrolet Express Cargo Van RWD 2500 135\"...    al  31.425091   \n",
      "127     2019 Chevrolet Express Cargo Van RWD 2500 135\"...    al  31.425091   \n",
      "128     2018 Chevrolet Express Cargo Van RWD 2500 135\"...    al  31.425091   \n",
      "215     This sky blue Toyota Echo has an excellent Car...    al  33.913500   \n",
      "219     For sale is a 1995 BMW 525i. Engine runs great...    al  33.353800   \n",
      "...                                                   ...   ...        ...   \n",
      "426788  Call or text today to find out more. (602) 620...    wy  45.781300   \n",
      "426792  Stock #: 01213 Air Conditioning; Available; Po...    wy  41.138284   \n",
      "426793  Stock #: 01201 Air Conditioning; Power Windows...    wy  41.138284   \n",
      "426833  Low mileage, garaged, no accidents, dents, or ...    wy  43.642930   \n",
      "426836  Phone: 320-275-2150   2018 RAM 2500 Tradesman ...    wy  45.082436   \n",
      "\n",
      "              long               posting_date  \n",
      "126     -85.617723  2021-04-12 11:20:35-05:00  \n",
      "127     -85.617723  2021-04-12 11:20:00-05:00  \n",
      "128     -85.617723  2021-04-12 11:19:58-05:00  \n",
      "215     -84.685900  2021-05-03 17:48:17-05:00  \n",
      "219     -86.825400  2021-05-03 16:03:27-05:00  \n",
      "...            ...                        ...  \n",
      "426788 -108.572700  2021-04-07 11:58:09-06:00  \n",
      "426792 -104.784799  2021-04-07 09:06:54-06:00  \n",
      "426793 -104.784799  2021-04-07 09:03:17-06:00  \n",
      "426833 -108.222976  2021-04-05 16:29:38-06:00  \n",
      "426836  -94.334686  2021-04-05 15:18:42-06:00  \n",
      "\n",
      "[34785 rows x 25 columns]>\n"
     ]
    }
   ],
   "source": [
    "# Check for any remaining missing values\n",
    "\n",
    "print(data.isnull().sum())\n",
    "\n",
    "print(data.head)\n"
   ]
  },
  {
   "cell_type": "code",
   "execution_count": 8,
   "metadata": {},
   "outputs": [
    {
     "name": "stdout",
     "output_type": "stream",
     "text": [
      "total number of vichels = 426880\n"
     ]
    }
   ],
   "source": [
    "#Total Number of vicels \n",
    "\n",
    "total_vichels = data.shape[0]\n",
    "\n",
    "print (\"total number of vichels =\",total_vichels)"
   ]
  },
  {
   "cell_type": "code",
   "execution_count": 10,
   "metadata": {},
   "outputs": [
    {
     "name": "stdout",
     "output_type": "stream",
     "text": [
      "average price of vichels : 75199.0331873126\n"
     ]
    }
   ],
   "source": [
    "# Average price of vichels \n",
    "\n",
    "avg_price = data['price'].mean()\n",
    "\n",
    "print ( \"average price of vichels :\",avg_price)"
   ]
  },
  {
   "cell_type": "code",
   "execution_count": 11,
   "metadata": {},
   "outputs": [
    {
     "name": "stdout",
     "output_type": "stream",
     "text": [
      "unique manufactors: 42\n"
     ]
    }
   ],
   "source": [
    "# How many Unique manufactors are there in the data set \n",
    "\n",
    "unique_manufactors = data['manufacturer'].nunique()\n",
    "\n",
    "print (\"unique manufactors:\",unique_manufactors)"
   ]
  },
  {
   "cell_type": "code",
   "execution_count": null,
   "metadata": {},
   "outputs": [
    {
     "name": "stdout",
     "output_type": "stream",
     "text": [
      "Most common vichels : good\n"
     ]
    }
   ],
   "source": [
    "# Most common Vichels condition\n",
    "\n",
    "most_common_vic= data['condition'].mode()[0]\n",
    "print(\"Most common vichels :\" , most_common_vic)"
   ]
  },
  {
   "cell_type": "code",
   "execution_count": 16,
   "metadata": {},
   "outputs": [
    {
     "name": "stdout",
     "output_type": "stream",
     "text": [
      "distrebution of fuel:\n",
      " fuel\n",
      "gas         356209\n",
      "other        30728\n",
      "diesel       30062\n",
      "hybrid        5170\n",
      "electric      1698\n",
      "Name: count, dtype: int64\n"
     ]
    }
   ],
   "source": [
    "# Distribution of fuel type \n",
    "\n",
    "fuel_distrebution = data['fuel'].value_counts()\n",
    "\n",
    "print(\"distrebution of fuel:\\n\",fuel_distrebution) "
   ]
  },
  {
   "cell_type": "code",
   "execution_count": 17,
   "metadata": {},
   "outputs": [
    {
     "name": "stdout",
     "output_type": "stream",
     "text": [
      " average odometer reading\n",
      " manufacturer\n",
      "acura               77527.153924\n",
      "alfa-romeo          34668.399103\n",
      "aston-martin        22353.958333\n",
      "audi                66060.754915\n",
      "bmw                 76193.385926\n",
      "buick              100671.775862\n",
      "cadillac            79680.888808\n",
      "chevrolet          106170.587919\n",
      "chrysler           102332.100571\n",
      "datsun              73693.349206\n",
      "dodge               90408.904031\n",
      "ferrari             29732.589474\n",
      "fiat                52572.235443\n",
      "ford               107527.735838\n",
      "gmc                106812.250406\n",
      "harley-davidson     57768.254902\n",
      "honda              115246.419956\n",
      "hyundai             86956.791059\n",
      "infiniti            74418.063063\n",
      "jaguar              50949.679031\n",
      "jeep                87511.432497\n",
      "kia                 78001.762931\n",
      "land rover          71202.571429\n",
      "lexus               90820.043532\n",
      "lincoln             73327.873266\n",
      "mazda               89466.268565\n",
      "mercedes-benz       80286.609401\n",
      "mercury            121864.355574\n",
      "mini                67154.336993\n",
      "mitsubishi          69606.298780\n",
      "morgan              14377.666667\n",
      "nissan              91775.185408\n",
      "pontiac            134853.275362\n",
      "porsche             82525.242182\n",
      "ram                 97604.822790\n",
      "rover               74006.592752\n",
      "saturn             124907.987974\n",
      "subaru              97784.659839\n",
      "tesla               37385.431871\n",
      "toyota             107148.693312\n",
      "volkswagen          83933.527886\n",
      "volvo              112198.340381\n",
      "Name: odometer, dtype: float64\n"
     ]
    }
   ],
   "source": [
    "# average odometer reading for vehicles by manufacturer\n",
    "\n",
    "average_odometer = data.groupby ('manufacturer')['odometer'].mean()\n",
    "\n",
    "\n",
    "print( \" average odometer reading\\n\",average_odometer)"
   ]
  },
  {
   "cell_type": "code",
   "execution_count": 19,
   "metadata": {},
   "outputs": [
    {
     "name": "stdout",
     "output_type": "stream",
     "text": [
      "number of vichels in each state \n",
      " state\n",
      "ca    50614\n",
      "fl    28511\n",
      "tx    22945\n",
      "ny    19386\n",
      "oh    17696\n",
      "or    17104\n",
      "mi    16900\n",
      "nc    15277\n",
      "wa    13861\n",
      "pa    13753\n",
      "wi    11398\n",
      "co    11088\n",
      "tn    11066\n",
      "va    10732\n",
      "il    10387\n",
      "nj     9742\n",
      "id     8961\n",
      "az     8679\n",
      "ia     8632\n",
      "ma     8174\n",
      "mn     7716\n",
      "ga     7003\n",
      "ok     6792\n",
      "sc     6327\n",
      "mt     6294\n",
      "ks     6209\n",
      "in     5704\n",
      "ct     5188\n",
      "al     4955\n",
      "md     4778\n",
      "nm     4425\n",
      "mo     4293\n",
      "ky     4149\n",
      "ar     4038\n",
      "ak     3474\n",
      "la     3196\n",
      "nv     3194\n",
      "nh     2981\n",
      "dc     2970\n",
      "me     2966\n",
      "hi     2964\n",
      "vt     2513\n",
      "ri     2320\n",
      "sd     1302\n",
      "ut     1150\n",
      "wv     1052\n",
      "ne     1036\n",
      "ms     1016\n",
      "de      949\n",
      "wy      610\n",
      "nd      410\n",
      "Name: count, dtype: int64\n"
     ]
    }
   ],
   "source": [
    "# vehicles are listed in each state\n",
    "\n",
    "vichels_per_state = data['state'].value_counts()\n",
    "print(\"number of vichels in each state \\n\", vichels_per_state)"
   ]
  },
  {
   "cell_type": "code",
   "execution_count": 20,
   "metadata": {},
   "outputs": [
    {
     "name": "stdout",
     "output_type": "stream",
     "text": [
      "average price by each year year\n",
      "1900.0    3.694167e+03\n",
      "1901.0    1.699667e+03\n",
      "1902.0    1.666666e+06\n",
      "1903.0    0.000000e+00\n",
      "1905.0    3.990000e+03\n",
      "              ...     \n",
      "2018.0    2.636861e+04\n",
      "2019.0    3.297553e+04\n",
      "2020.0    9.189771e+04\n",
      "2021.0    1.338055e+06\n",
      "2022.0    2.736705e+04\n",
      "Name: price, Length: 114, dtype: float64\n"
     ]
    }
   ],
   "source": [
    "# Averave Price of vichels by year \n",
    "\n",
    "\n",
    "avg_price_year = data.groupby('year')['price'].mean()\n",
    "\n",
    "print (\"average price by each year\",avg_price_year)"
   ]
  },
  {
   "cell_type": "code",
   "execution_count": 21,
   "metadata": {},
   "outputs": [
    {
     "name": "stdout",
     "output_type": "stream",
     "text": [
      "Percentage of vehicles with a clean title status: 96.77024063749587\n"
     ]
    }
   ],
   "source": [
    "# percentage of vichles that have title statues 'clean' \n",
    "\n",
    "clean_vichels_sta= (data ['title_status'].value_counts(normalize=True)['clean']*100) \n",
    "\n",
    "print(\"Percentage of vehicles with a clean title status:\",clean_vichels_sta)"
   ]
  },
  {
   "cell_type": "code",
   "execution_count": 22,
   "metadata": {},
   "outputs": [
    {
     "name": "stdout",
     "output_type": "stream",
     "text": [
      "Correlation between price and odometer reading: 0.010032266733226167\n"
     ]
    }
   ],
   "source": [
    "# correlation between price and odometer reading \n",
    "\n",
    "correlation_price_odometer = data['price'].corr(data['odometer'])\n",
    "\n",
    "print(\"Correlation between price and odometer reading:\",correlation_price_odometer)"
   ]
  }
 ],
 "metadata": {
  "kernelspec": {
   "display_name": "Python 3",
   "language": "python",
   "name": "python3"
  },
  "language_info": {
   "codemirror_mode": {
    "name": "ipython",
    "version": 3
   },
   "file_extension": ".py",
   "mimetype": "text/x-python",
   "name": "python",
   "nbconvert_exporter": "python",
   "pygments_lexer": "ipython3",
   "version": "3.13.1"
  }
 },
 "nbformat": 4,
 "nbformat_minor": 2
}
